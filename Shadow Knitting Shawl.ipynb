{
 "cells": [
  {
   "cell_type": "code",
   "execution_count": 1,
   "metadata": {},
   "outputs": [],
   "source": [
    "import pandas as pd"
   ]
  },
  {
   "cell_type": "code",
   "execution_count": 2,
   "metadata": {},
   "outputs": [],
   "source": [
    "# range of stitches\n",
    "st_range = range(7,84)\n",
    "\n",
    "# base set up for stitches per row for one side of shawl\n",
    "l = [4*[x] for x in st_range]\n",
    "flat_list = [item for sublist in l for item in sublist]"
   ]
  },
  {
   "cell_type": "code",
   "execution_count": 3,
   "metadata": {},
   "outputs": [],
   "source": [
    "# stitches for entire shawl\n",
    "st_list = [7] + flat_list + flat_list[::-1]\n",
    "\n",
    "# number of rows in shawl\n",
    "row_list = range(0,len(st_list))\n",
    "\n",
    "# SHAWL STITCH DF!\n",
    "st_df = pd.DataFrame(data={'row_num':row_list,\n",
    "                           'st_in_row':st_list})"
   ]
  },
  {
   "cell_type": "code",
   "execution_count": 4,
   "metadata": {},
   "outputs": [],
   "source": [
    "# total stitches completed\n",
    "st_df['total_st'] = st_df['st_in_row'].cumsum()\n",
    "\n",
    "# number of stitches left to knit in shawl\n",
    "st_df['st_left'] = max(st_df['total_st']) - st_df['total_st']\n",
    "\n",
    "# percentage of the shawl completed\n",
    "st_df['perc_complete'] = round(100*st_df['total_st']/max(st_df['total_st']),2)"
   ]
  },
  {
   "cell_type": "code",
   "execution_count": 5,
   "metadata": {},
   "outputs": [],
   "source": [
    "# log # stitches knit per minute to aid in calculations, may change!\n",
    "st_per_min = 20"
   ]
  },
  {
   "cell_type": "code",
   "execution_count": 6,
   "metadata": {},
   "outputs": [],
   "source": [
    "# convert from mins to \"XhYm\"\n",
    "def convert_to_hrs(mins):\n",
    "    ret_hrs = mins//60\n",
    "    ret_mins = mins % 60\n",
    "    return f\"{ret_hrs}h {ret_mins}m\"\n",
    "    \n",
    "# takes in a row #, and optionally the percentage you're aiming for!\n",
    "def status(row, perc = \"\"):\n",
    "    data = st_df.loc[row,:]\n",
    "    data_next = st_df.loc[row+1,:]\n",
    "    # optional input to update stitches per min\n",
    "    #st_per_min = input('Using K2P2 ribbing, how many stitches are you knitting in a minute?: ')\n",
    "    \n",
    "    try:\n",
    "        min_completed = int(data['total_st']/int(st_per_min))\n",
    "        hrs_completed = convert_to_hrs(min_completed)\n",
    "        min_to_go = int(data['st_left']/int(st_per_min))\n",
    "        hrs_to_go = convert_to_hrs(min_to_go)\n",
    "        \n",
    "        add_perc = round(data_next['perc_complete'] - data['perc_complete'],2)\n",
    "        \n",
    "        info1 = f\"Currently, you've completed {int(data['total_st'])} stitches.\"\n",
    "        info2 = f\"You are {data['perc_complete']}% done, only {100-data['perc_complete']}% to go!\"\n",
    "        info3 = f\"At your current knitting speed of {st_per_min} sts per min, you've spent {hrs_completed} and have {hrs_to_go} to go!\"\n",
    "        info4 = f\"\\nYour next row will only be {int(data_next['st_in_row'])} sts, and will add {add_perc}%!\"\n",
    "\n",
    "        print('\\n'.join([info1, info2, info3, info4]),\"\\n-----------------------\\n\")\n",
    "        \n",
    "    except:\n",
    "        print(\"Try again with a whole number!\")\n",
    "        \n",
    "    try:\n",
    "        if perc != \"\":\n",
    "            data = st_df[st_df['perc_complete']>=perc].reset_index(drop=True).loc[0]\n",
    "            row_num = int(data['row_num'])\n",
    "\n",
    "            info5 = f\"{perc}% of the shawl is reached at row {row_num}.\"\n",
    "\n",
    "            print(info5)\n",
    "\n",
    "            # if the current row - row num is 0 or positive, than you've already reached that percentage!\n",
    "            if type(row) == int:\n",
    "                diff_in_rows = row - row_num\n",
    "                if diff_in_rows == 0:\n",
    "                    print(f\"CONGRATS ON COMPLETING ROW {row_num}, YOU DID IT!\")\n",
    "                elif diff_in_rows > 0:\n",
    "                    print(f\"You have passed that by {diff_in_rows} rows.\")\n",
    "                elif diff_in_rows < 0:\n",
    "                    print(f\"Currently at row {row_num}, you need to complete {abs(diff_in_rows)} more rows to get there!\")\n",
    "    except:\n",
    "        print(\"Please enter a value between 0 and 100.\")\n",
    "        "
   ]
  },
  {
   "cell_type": "code",
   "execution_count": 7,
   "metadata": {
    "scrolled": true
   },
   "outputs": [
    {
     "name": "stdout",
     "output_type": "stream",
     "text": [
      "Currently, you've completed 12643 stitches.\n",
      "You are 45.6% done, only 54.4% to go!\n",
      "At your current knitting speed of 20 sts per min, you've spent 10h 32m and have 12h 34m to go!\n",
      "\n",
      "Your next row will only be 80 sts, and will add 0.29%! \n",
      "-----------------------\n",
      "\n",
      "46% of the shawl is reached at row 295.\n",
      "Currently at row 295, you need to complete 2 more rows to get there!\n"
     ]
    }
   ],
   "source": [
    "status(row = 293, perc = 46)"
   ]
  }
 ],
 "metadata": {
  "kernelspec": {
   "display_name": "Python 3",
   "language": "python",
   "name": "python3"
  },
  "language_info": {
   "codemirror_mode": {
    "name": "ipython",
    "version": 3
   },
   "file_extension": ".py",
   "mimetype": "text/x-python",
   "name": "python",
   "nbconvert_exporter": "python",
   "pygments_lexer": "ipython3",
   "version": "3.8.5"
  }
 },
 "nbformat": 4,
 "nbformat_minor": 4
}
